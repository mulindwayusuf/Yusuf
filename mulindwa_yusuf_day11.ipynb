{
 "cells": [
  {
   "cell_type": "code",
   "execution_count": null,
   "metadata": {},
   "outputs": [],
   "source": [
    "# Machine Learning\n",
    "# Types;\n",
    "# Supervised,\n",
    "# Unsupervised and \n",
    "# Reinforcement learning"
   ]
  },
  {
   "cell_type": "code",
   "execution_count": null,
   "metadata": {},
   "outputs": [],
   "source": [
    "# Data preprocessing\n",
    "\n",
    "# Data cleaning \n",
    "# Steps \n",
    "# Check for; \n",
    "# 1. Duplication , drop duplicates\n",
    "# 2. Wrong format , eg 1/7/2024, 2/7/2024, 372024\n",
    "# 3. Wrong data , eg Age 230, 1.33, 1.44, 1.50\n",
    "# 4. Empty cells \n",
    "# 5. Missing data\n",
    "# Handling missing data, remove/delete, imputation\n",
    "# the forward or backward filling, knn or regression,"
   ]
  },
  {
   "cell_type": "code",
   "execution_count": null,
   "metadata": {},
   "outputs": [],
   "source": [
    "# Exploratory data analysis\n",
    "\n",
    "# Steps\n",
    "# Descirptive statistics;\n",
    "# Measure of central tendency ,Mean , median and mode\n",
    "# Measure of Spread: range,variance, standard deviation\n",
    "# interquartile range\n",
    "#\n",
    "# Data Visualization:\n",
    "# Histogram - distribution of a single variable\n",
    "# Box plot- identifying outliers\n",
    "# Scatter plot - examining the relationship between two variables\n",
    "# Heatmaps - used for visualizing correlation matrix"
   ]
  },
  {
   "cell_type": "code",
   "execution_count": null,
   "metadata": {},
   "outputs": [],
   "source": [
    "# Tools for data visualization\n",
    "\n",
    "# 1. Matplotlib-Line, bar, scatter and histogram\n",
    "# 2. Seaborn-themes color palletes, more attractive\n",
    "# 3. plotly"
   ]
  },
  {
   "cell_type": "code",
   "execution_count": null,
   "metadata": {},
   "outputs": [],
   "source": [
    "# Feature engineering\n",
    "# \n",
    "# Selection, Filter like chi-square, ANOVA\n",
    "# Wrapper recursive features\n",
    "# Embedded, Lasso regression\n",
    "# \n",
    "# Feature scalling and normalization\n",
    "# \n",
    "# Normalization Rescale to a range,[Age, 20-28]\n",
    "# Standard deviation, transform std\n",
    "# Create new features, polynormal, interactions,"
   ]
  },
  {
   "cell_type": "code",
   "execution_count": null,
   "metadata": {},
   "outputs": [],
   "source": [
    "# Data splitting\n",
    "# \n",
    "# Training and evaluation of a model\n",
    "# Most common ratios [20,80] or [30, 70] [testing, training]\n",
    "# import Scikit-learn - help in splitting train_test split,"
   ]
  },
  {
   "cell_type": "code",
   "execution_count": null,
   "metadata": {},
   "outputs": [],
   "source": [
    "# Cross validation - evaluate the performance of the model\n",
    "\n",
    "# Types are, train/test we can use k-fold Cross validation\n",
    "# Stratified K-fold - ensure the distribution of the target variable\n",
    "# Cross validation helps i reducing variance in model performance estimates\n",
    "# Provides a comprehensive evaluation of model performance,"
   ]
  },
  {
   "cell_type": "code",
   "execution_count": null,
   "metadata": {},
   "outputs": [],
   "source": [
    "# Supervised Learning Algorithms:\n",
    "# 1. Regression; Linear or polynormal regression\n",
    "# 2. Classification, Logistic Regression, KNN, SVM\n",
    "# decision trees and random forest,"
   ]
  },
  {
   "cell_type": "code",
   "execution_count": null,
   "metadata": {},
   "outputs": [],
   "source": [
    "# Model evaluation\n",
    "# Metrics: Accuracy,Precicision,Recall, F1.Score\n",
    "# Confusion Matrix\n",
    "# AUC and ROC(Receiver Operating Characteristics Curve),"
   ]
  },
  {
   "cell_type": "code",
   "execution_count": null,
   "metadata": {},
   "outputs": [],
   "source": [
    "# Summary:\n",
    "# Supervised learning\n",
    "# Labelled data, predict output for new inputs , common task, classification and regression\n",
    "# \n",
    "# Unsupervised learning\n",
    "# Unlabelled data, find hidden patterns or structures in data, tasks like, Custtering, Dimensionality, association rule learining.\n"
   ]
  }
 ],
 "metadata": {
  "kernelspec": {
   "display_name": "Python 3",
   "language": "python",
   "name": "python3"
  },
  "language_info": {
   "name": "python",
   "version": "3.12.3"
  }
 },
 "nbformat": 4,
 "nbformat_minor": 2
}
